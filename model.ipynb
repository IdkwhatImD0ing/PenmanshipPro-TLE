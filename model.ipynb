{
 "cells": [
  {
   "attachments": {},
   "cell_type": "markdown",
   "metadata": {},
   "source": [
    "# Model for Recognizing Handwritten Digits"
   ]
  },
  {
   "cell_type": "code",
   "execution_count": 2,
   "metadata": {},
   "outputs": [
    {
     "name": "stdout",
     "output_type": "stream",
     "text": [
      "dataset\\emnist-balanced-mapping.txt\n",
      "dataset\\emnist-balanced-test.csv\n",
      "dataset\\emnist-balanced-train.csv\n",
      "dataset\\emnist-byclass-mapping.txt\n",
      "dataset\\emnist-byclass-test.csv\n",
      "dataset\\emnist-byclass-train.csv\n",
      "dataset\\emnist-bymerge-mapping.txt\n",
      "dataset\\emnist-bymerge-test.csv\n",
      "dataset\\emnist-bymerge-train.csv\n",
      "dataset\\emnist-digits-mapping.txt\n",
      "dataset\\emnist-digits-test.csv\n",
      "dataset\\emnist-digits-train.csv\n",
      "dataset\\emnist-letters-mapping.txt\n",
      "dataset\\emnist-letters-test.csv\n",
      "dataset\\emnist-letters-train.csv\n",
      "dataset\\emnist-mnist-mapping.txt\n",
      "dataset\\emnist-mnist-test.csv\n",
      "dataset\\emnist-mnist-train.csv\n",
      "dataset\\emnist_source_files\\emnist-balanced-test-images-idx3-ubyte\n",
      "dataset\\emnist_source_files\\emnist-balanced-test-labels-idx1-ubyte\n",
      "dataset\\emnist_source_files\\emnist-balanced-train-images-idx3-ubyte\n",
      "dataset\\emnist_source_files\\emnist-balanced-train-labels-idx1-ubyte\n",
      "dataset\\emnist_source_files\\emnist-byclass-test-images-idx3-ubyte\n",
      "dataset\\emnist_source_files\\emnist-byclass-test-labels-idx1-ubyte\n",
      "dataset\\emnist_source_files\\emnist-byclass-train-images-idx3-ubyte\n",
      "dataset\\emnist_source_files\\emnist-byclass-train-labels-idx1-ubyte\n",
      "dataset\\emnist_source_files\\emnist-bymerge-test-images-idx3-ubyte\n",
      "dataset\\emnist_source_files\\emnist-bymerge-test-labels-idx1-ubyte\n",
      "dataset\\emnist_source_files\\emnist-bymerge-train-images-idx3-ubyte\n",
      "dataset\\emnist_source_files\\emnist-bymerge-train-labels-idx1-ubyte\n",
      "dataset\\emnist_source_files\\emnist-digits-test-images-idx3-ubyte\n",
      "dataset\\emnist_source_files\\emnist-digits-test-labels-idx1-ubyte\n",
      "dataset\\emnist_source_files\\emnist-digits-train-images-idx3-ubyte\n",
      "dataset\\emnist_source_files\\emnist-digits-train-labels-idx1-ubyte\n",
      "dataset\\emnist_source_files\\emnist-letters-test-images-idx3-ubyte\n",
      "dataset\\emnist_source_files\\emnist-letters-test-labels-idx1-ubyte\n",
      "dataset\\emnist_source_files\\emnist-letters-train-images-idx3-ubyte\n",
      "dataset\\emnist_source_files\\emnist-letters-train-labels-idx1-ubyte\n",
      "dataset\\emnist_source_files\\emnist-mnist-test-images-idx3-ubyte\n",
      "dataset\\emnist_source_files\\emnist-mnist-test-labels-idx1-ubyte\n",
      "dataset\\emnist_source_files\\emnist-mnist-train-images-idx3-ubyte\n",
      "dataset\\emnist_source_files\\emnist-mnist-train-labels-idx1-ubyte\n"
     ]
    }
   ],
   "source": [
    "import numpy as np  # linear algebra\n",
    "import pandas as pd  # data processing, CSV file I/O (e.g. pd.read_csv)\n",
    "\n",
    "import cv2\n",
    "import matplotlib.pyplot as plt\n",
    "\n",
    "from sklearn.model_selection import train_test_split\n",
    "\n",
    "import tensorflow as tf\n",
    "import tensorflow_hub as hub\n",
    "\n",
    "import keras\n",
    "from keras.models import Sequential, load_model\n",
    "from keras.callbacks import EarlyStopping, ModelCheckpoint\n",
    "from keras import layers\n",
    "from keras.layers import *\n",
    "from keras.utils import np_utils\n",
    "\n",
    "from tqdm import tqdm\n",
    "\n",
    "import os\n",
    "for dirname, _, filenames in os.walk('dataset'): #See all files\n",
    "    for filename in filenames:\n",
    "        print(os.path.join(dirname, filename))"
   ]
  },
  {
   "attachments": {},
   "cell_type": "markdown",
   "metadata": {},
   "source": [
    "## Part One: Loading the training data"
   ]
  },
  {
   "cell_type": "code",
   "execution_count": 3,
   "metadata": {},
   "outputs": [
    {
     "data": {
      "text/html": [
       "<div>\n",
       "<style scoped>\n",
       "    .dataframe tbody tr th:only-of-type {\n",
       "        vertical-align: middle;\n",
       "    }\n",
       "\n",
       "    .dataframe tbody tr th {\n",
       "        vertical-align: top;\n",
       "    }\n",
       "\n",
       "    .dataframe thead th {\n",
       "        text-align: right;\n",
       "    }\n",
       "</style>\n",
       "<table border=\"1\" class=\"dataframe\">\n",
       "  <thead>\n",
       "    <tr style=\"text-align: right;\">\n",
       "      <th></th>\n",
       "      <th>0</th>\n",
       "      <th>1</th>\n",
       "      <th>2</th>\n",
       "      <th>3</th>\n",
       "      <th>4</th>\n",
       "      <th>5</th>\n",
       "      <th>6</th>\n",
       "      <th>7</th>\n",
       "      <th>8</th>\n",
       "      <th>9</th>\n",
       "      <th>...</th>\n",
       "      <th>775</th>\n",
       "      <th>776</th>\n",
       "      <th>777</th>\n",
       "      <th>778</th>\n",
       "      <th>779</th>\n",
       "      <th>780</th>\n",
       "      <th>781</th>\n",
       "      <th>782</th>\n",
       "      <th>783</th>\n",
       "      <th>784</th>\n",
       "    </tr>\n",
       "  </thead>\n",
       "  <tbody>\n",
       "    <tr>\n",
       "      <th>0</th>\n",
       "      <td>45</td>\n",
       "      <td>0</td>\n",
       "      <td>0</td>\n",
       "      <td>0</td>\n",
       "      <td>0</td>\n",
       "      <td>0</td>\n",
       "      <td>0</td>\n",
       "      <td>0</td>\n",
       "      <td>0</td>\n",
       "      <td>0</td>\n",
       "      <td>...</td>\n",
       "      <td>0</td>\n",
       "      <td>0</td>\n",
       "      <td>0</td>\n",
       "      <td>0</td>\n",
       "      <td>0</td>\n",
       "      <td>0</td>\n",
       "      <td>0</td>\n",
       "      <td>0</td>\n",
       "      <td>0</td>\n",
       "      <td>0</td>\n",
       "    </tr>\n",
       "    <tr>\n",
       "      <th>1</th>\n",
       "      <td>36</td>\n",
       "      <td>0</td>\n",
       "      <td>0</td>\n",
       "      <td>0</td>\n",
       "      <td>0</td>\n",
       "      <td>0</td>\n",
       "      <td>0</td>\n",
       "      <td>0</td>\n",
       "      <td>0</td>\n",
       "      <td>0</td>\n",
       "      <td>...</td>\n",
       "      <td>0</td>\n",
       "      <td>0</td>\n",
       "      <td>0</td>\n",
       "      <td>0</td>\n",
       "      <td>0</td>\n",
       "      <td>0</td>\n",
       "      <td>0</td>\n",
       "      <td>0</td>\n",
       "      <td>0</td>\n",
       "      <td>0</td>\n",
       "    </tr>\n",
       "    <tr>\n",
       "      <th>2</th>\n",
       "      <td>43</td>\n",
       "      <td>0</td>\n",
       "      <td>0</td>\n",
       "      <td>0</td>\n",
       "      <td>0</td>\n",
       "      <td>0</td>\n",
       "      <td>0</td>\n",
       "      <td>0</td>\n",
       "      <td>0</td>\n",
       "      <td>0</td>\n",
       "      <td>...</td>\n",
       "      <td>0</td>\n",
       "      <td>0</td>\n",
       "      <td>0</td>\n",
       "      <td>0</td>\n",
       "      <td>0</td>\n",
       "      <td>0</td>\n",
       "      <td>0</td>\n",
       "      <td>0</td>\n",
       "      <td>0</td>\n",
       "      <td>0</td>\n",
       "    </tr>\n",
       "    <tr>\n",
       "      <th>3</th>\n",
       "      <td>15</td>\n",
       "      <td>0</td>\n",
       "      <td>0</td>\n",
       "      <td>0</td>\n",
       "      <td>0</td>\n",
       "      <td>0</td>\n",
       "      <td>0</td>\n",
       "      <td>0</td>\n",
       "      <td>0</td>\n",
       "      <td>0</td>\n",
       "      <td>...</td>\n",
       "      <td>0</td>\n",
       "      <td>0</td>\n",
       "      <td>0</td>\n",
       "      <td>0</td>\n",
       "      <td>0</td>\n",
       "      <td>0</td>\n",
       "      <td>0</td>\n",
       "      <td>0</td>\n",
       "      <td>0</td>\n",
       "      <td>0</td>\n",
       "    </tr>\n",
       "    <tr>\n",
       "      <th>4</th>\n",
       "      <td>4</td>\n",
       "      <td>0</td>\n",
       "      <td>0</td>\n",
       "      <td>0</td>\n",
       "      <td>0</td>\n",
       "      <td>0</td>\n",
       "      <td>0</td>\n",
       "      <td>0</td>\n",
       "      <td>0</td>\n",
       "      <td>0</td>\n",
       "      <td>...</td>\n",
       "      <td>0</td>\n",
       "      <td>0</td>\n",
       "      <td>0</td>\n",
       "      <td>0</td>\n",
       "      <td>0</td>\n",
       "      <td>0</td>\n",
       "      <td>0</td>\n",
       "      <td>0</td>\n",
       "      <td>0</td>\n",
       "      <td>0</td>\n",
       "    </tr>\n",
       "  </tbody>\n",
       "</table>\n",
       "<p>5 rows × 785 columns</p>\n",
       "</div>"
      ],
      "text/plain": [
       "   0    1    2    3    4    5    6    7    8    9    ...  775  776  777  778  \\\n",
       "0   45    0    0    0    0    0    0    0    0    0  ...    0    0    0    0   \n",
       "1   36    0    0    0    0    0    0    0    0    0  ...    0    0    0    0   \n",
       "2   43    0    0    0    0    0    0    0    0    0  ...    0    0    0    0   \n",
       "3   15    0    0    0    0    0    0    0    0    0  ...    0    0    0    0   \n",
       "4    4    0    0    0    0    0    0    0    0    0  ...    0    0    0    0   \n",
       "\n",
       "   779  780  781  782  783  784  \n",
       "0    0    0    0    0    0    0  \n",
       "1    0    0    0    0    0    0  \n",
       "2    0    0    0    0    0    0  \n",
       "3    0    0    0    0    0    0  \n",
       "4    0    0    0    0    0    0  \n",
       "\n",
       "[5 rows x 785 columns]"
      ]
     },
     "execution_count": 3,
     "metadata": {},
     "output_type": "execute_result"
    }
   ],
   "source": [
    "train_df = pd.read_csv('dataset/emnist-balanced-train.csv',\n",
    "                       header=None)\n",
    "train_df.head()"
   ]
  },
  {
   "cell_type": "code",
   "execution_count": 4,
   "metadata": {},
   "outputs": [
    {
     "data": {
      "text/plain": [
       "(112800, 785)"
      ]
     },
     "execution_count": 4,
     "metadata": {},
     "output_type": "execute_result"
    }
   ],
   "source": [
    "train_df.shape"
   ]
  },
  {
   "attachments": {},
   "cell_type": "markdown",
   "metadata": {},
   "source": [
    "### Splitting the data into features and labels"
   ]
  },
  {
   "cell_type": "code",
   "execution_count": 5,
   "metadata": {},
   "outputs": [
    {
     "data": {
      "text/plain": [
       "((112800, 784), (112800,))"
      ]
     },
     "execution_count": 5,
     "metadata": {},
     "output_type": "execute_result"
    }
   ],
   "source": [
    "X_train = train_df.loc[:, 1:]\n",
    "y_train = train_df.loc[:, 0]\n",
    "X_train.shape, y_train.shape"
   ]
  },
  {
   "cell_type": "code",
   "execution_count": 6,
   "metadata": {},
   "outputs": [
    {
     "data": {
      "text/html": [
       "<div>\n",
       "<style scoped>\n",
       "    .dataframe tbody tr th:only-of-type {\n",
       "        vertical-align: middle;\n",
       "    }\n",
       "\n",
       "    .dataframe tbody tr th {\n",
       "        vertical-align: top;\n",
       "    }\n",
       "\n",
       "    .dataframe thead th {\n",
       "        text-align: right;\n",
       "    }\n",
       "</style>\n",
       "<table border=\"1\" class=\"dataframe\">\n",
       "  <thead>\n",
       "    <tr style=\"text-align: right;\">\n",
       "      <th></th>\n",
       "      <th>1</th>\n",
       "      <th>2</th>\n",
       "      <th>3</th>\n",
       "      <th>4</th>\n",
       "      <th>5</th>\n",
       "      <th>6</th>\n",
       "      <th>7</th>\n",
       "      <th>8</th>\n",
       "      <th>9</th>\n",
       "      <th>10</th>\n",
       "      <th>...</th>\n",
       "      <th>775</th>\n",
       "      <th>776</th>\n",
       "      <th>777</th>\n",
       "      <th>778</th>\n",
       "      <th>779</th>\n",
       "      <th>780</th>\n",
       "      <th>781</th>\n",
       "      <th>782</th>\n",
       "      <th>783</th>\n",
       "      <th>784</th>\n",
       "    </tr>\n",
       "  </thead>\n",
       "  <tbody>\n",
       "    <tr>\n",
       "      <th>0</th>\n",
       "      <td>0</td>\n",
       "      <td>0</td>\n",
       "      <td>0</td>\n",
       "      <td>0</td>\n",
       "      <td>0</td>\n",
       "      <td>0</td>\n",
       "      <td>0</td>\n",
       "      <td>0</td>\n",
       "      <td>0</td>\n",
       "      <td>0</td>\n",
       "      <td>...</td>\n",
       "      <td>0</td>\n",
       "      <td>0</td>\n",
       "      <td>0</td>\n",
       "      <td>0</td>\n",
       "      <td>0</td>\n",
       "      <td>0</td>\n",
       "      <td>0</td>\n",
       "      <td>0</td>\n",
       "      <td>0</td>\n",
       "      <td>0</td>\n",
       "    </tr>\n",
       "    <tr>\n",
       "      <th>1</th>\n",
       "      <td>0</td>\n",
       "      <td>0</td>\n",
       "      <td>0</td>\n",
       "      <td>0</td>\n",
       "      <td>0</td>\n",
       "      <td>0</td>\n",
       "      <td>0</td>\n",
       "      <td>0</td>\n",
       "      <td>0</td>\n",
       "      <td>0</td>\n",
       "      <td>...</td>\n",
       "      <td>0</td>\n",
       "      <td>0</td>\n",
       "      <td>0</td>\n",
       "      <td>0</td>\n",
       "      <td>0</td>\n",
       "      <td>0</td>\n",
       "      <td>0</td>\n",
       "      <td>0</td>\n",
       "      <td>0</td>\n",
       "      <td>0</td>\n",
       "    </tr>\n",
       "    <tr>\n",
       "      <th>2</th>\n",
       "      <td>0</td>\n",
       "      <td>0</td>\n",
       "      <td>0</td>\n",
       "      <td>0</td>\n",
       "      <td>0</td>\n",
       "      <td>0</td>\n",
       "      <td>0</td>\n",
       "      <td>0</td>\n",
       "      <td>0</td>\n",
       "      <td>0</td>\n",
       "      <td>...</td>\n",
       "      <td>0</td>\n",
       "      <td>0</td>\n",
       "      <td>0</td>\n",
       "      <td>0</td>\n",
       "      <td>0</td>\n",
       "      <td>0</td>\n",
       "      <td>0</td>\n",
       "      <td>0</td>\n",
       "      <td>0</td>\n",
       "      <td>0</td>\n",
       "    </tr>\n",
       "    <tr>\n",
       "      <th>3</th>\n",
       "      <td>0</td>\n",
       "      <td>0</td>\n",
       "      <td>0</td>\n",
       "      <td>0</td>\n",
       "      <td>0</td>\n",
       "      <td>0</td>\n",
       "      <td>0</td>\n",
       "      <td>0</td>\n",
       "      <td>0</td>\n",
       "      <td>0</td>\n",
       "      <td>...</td>\n",
       "      <td>0</td>\n",
       "      <td>0</td>\n",
       "      <td>0</td>\n",
       "      <td>0</td>\n",
       "      <td>0</td>\n",
       "      <td>0</td>\n",
       "      <td>0</td>\n",
       "      <td>0</td>\n",
       "      <td>0</td>\n",
       "      <td>0</td>\n",
       "    </tr>\n",
       "    <tr>\n",
       "      <th>4</th>\n",
       "      <td>0</td>\n",
       "      <td>0</td>\n",
       "      <td>0</td>\n",
       "      <td>0</td>\n",
       "      <td>0</td>\n",
       "      <td>0</td>\n",
       "      <td>0</td>\n",
       "      <td>0</td>\n",
       "      <td>0</td>\n",
       "      <td>0</td>\n",
       "      <td>...</td>\n",
       "      <td>0</td>\n",
       "      <td>0</td>\n",
       "      <td>0</td>\n",
       "      <td>0</td>\n",
       "      <td>0</td>\n",
       "      <td>0</td>\n",
       "      <td>0</td>\n",
       "      <td>0</td>\n",
       "      <td>0</td>\n",
       "      <td>0</td>\n",
       "    </tr>\n",
       "  </tbody>\n",
       "</table>\n",
       "<p>5 rows × 784 columns</p>\n",
       "</div>"
      ],
      "text/plain": [
       "   1    2    3    4    5    6    7    8    9    10   ...  775  776  777  778  \\\n",
       "0    0    0    0    0    0    0    0    0    0    0  ...    0    0    0    0   \n",
       "1    0    0    0    0    0    0    0    0    0    0  ...    0    0    0    0   \n",
       "2    0    0    0    0    0    0    0    0    0    0  ...    0    0    0    0   \n",
       "3    0    0    0    0    0    0    0    0    0    0  ...    0    0    0    0   \n",
       "4    0    0    0    0    0    0    0    0    0    0  ...    0    0    0    0   \n",
       "\n",
       "   779  780  781  782  783  784  \n",
       "0    0    0    0    0    0    0  \n",
       "1    0    0    0    0    0    0  \n",
       "2    0    0    0    0    0    0  \n",
       "3    0    0    0    0    0    0  \n",
       "4    0    0    0    0    0    0  \n",
       "\n",
       "[5 rows x 784 columns]"
      ]
     },
     "execution_count": 6,
     "metadata": {},
     "output_type": "execute_result"
    }
   ],
   "source": [
    "X_train.head()"
   ]
  },
  {
   "cell_type": "code",
   "execution_count": 7,
   "metadata": {},
   "outputs": [
    {
     "data": {
      "text/plain": [
       "0    45\n",
       "1    36\n",
       "2    43\n",
       "3    15\n",
       "4     4\n",
       "Name: 0, dtype: int64"
      ]
     },
     "execution_count": 7,
     "metadata": {},
     "output_type": "execute_result"
    }
   ],
   "source": [
    "y_train.head()"
   ]
  },
  {
   "attachments": {},
   "cell_type": "markdown",
   "metadata": {},
   "source": [
    "### Creating the label dictionary\n",
    "Maps from outputs to letters"
   ]
  },
  {
   "cell_type": "code",
   "execution_count": 8,
   "metadata": {},
   "outputs": [
    {
     "data": {
      "text/plain": [
       "0\n",
       "0    48\n",
       "1    49\n",
       "2    50\n",
       "3    51\n",
       "4    52\n",
       "Name: 1, dtype: int64"
      ]
     },
     "execution_count": 8,
     "metadata": {},
     "output_type": "execute_result"
    }
   ],
   "source": [
    "label_map = pd.read_csv(\"dataset/emnist-balanced-mapping.txt\",\n",
    "                        delimiter=' ',\n",
    "                        index_col=0,\n",
    "                        header=None,\n",
    "                        squeeze=True)\n",
    "label_map.head()"
   ]
  },
  {
   "cell_type": "code",
   "execution_count": 9,
   "metadata": {},
   "outputs": [
    {
     "data": {
      "text/plain": [
       "{0: '0',\n",
       " 1: '1',\n",
       " 2: '2',\n",
       " 3: '3',\n",
       " 4: '4',\n",
       " 5: '5',\n",
       " 6: '6',\n",
       " 7: '7',\n",
       " 8: '8',\n",
       " 9: '9',\n",
       " 10: 'A',\n",
       " 11: 'B',\n",
       " 12: 'C',\n",
       " 13: 'D',\n",
       " 14: 'E',\n",
       " 15: 'F',\n",
       " 16: 'G',\n",
       " 17: 'H',\n",
       " 18: 'I',\n",
       " 19: 'J',\n",
       " 20: 'K',\n",
       " 21: 'L',\n",
       " 22: 'M',\n",
       " 23: 'N',\n",
       " 24: 'O',\n",
       " 25: 'P',\n",
       " 26: 'Q',\n",
       " 27: 'R',\n",
       " 28: 'S',\n",
       " 29: 'T',\n",
       " 30: 'U',\n",
       " 31: 'V',\n",
       " 32: 'W',\n",
       " 33: 'X',\n",
       " 34: 'Y',\n",
       " 35: 'Z',\n",
       " 36: 'a',\n",
       " 37: 'b',\n",
       " 38: 'd',\n",
       " 39: 'e',\n",
       " 40: 'f',\n",
       " 41: 'g',\n",
       " 42: 'h',\n",
       " 43: 'n',\n",
       " 44: 'q',\n",
       " 45: 'r',\n",
       " 46: 't'}"
      ]
     },
     "execution_count": 9,
     "metadata": {},
     "output_type": "execute_result"
    }
   ],
   "source": [
    "label_dictionary = {}\n",
    "for index, label in enumerate(label_map):\n",
    "    label_dictionary[index] = chr(label)\n",
    "\n",
    "label_dictionary"
   ]
  },
  {
   "attachments": {},
   "cell_type": "markdown",
   "metadata": {},
   "source": [
    "## Part Two: Visualizing the training data"
   ]
  },
  {
   "cell_type": "code",
   "execution_count": 10,
   "metadata": {},
   "outputs": [
    {
     "data": {
      "text/plain": [
       "((784,), 23)"
      ]
     },
     "execution_count": 10,
     "metadata": {},
     "output_type": "execute_result"
    }
   ],
   "source": [
    "# Sample entry number 42\n",
    "sample_image = X_train.iloc[42]\n",
    "sample_label = y_train.iloc[42]\n",
    "sample_image.shape, sample_label"
   ]
  },
  {
   "cell_type": "code",
   "execution_count": 11,
   "metadata": {},
   "outputs": [
    {
     "name": "stdout",
     "output_type": "stream",
     "text": [
      "Label entry 42: N\n"
     ]
    },
    {
     "data": {
      "image/png": "[encoded data removed]",
      "text/plain": [
       "<Figure size 432x288 with 1 Axes>"
      ]
     },
     "metadata": {
      "needs_background": "light"
     },
     "output_type": "display_data"
    }
   ],
   "source": [
    "W = 28\n",
    "H = 28\n",
    "print(\"Label entry 42:\", label_dictionary[sample_label])\n",
    "plt.imshow(sample_image.values.reshape(W, H), cmap=plt.cm.gray)\n",
    "plt.show()"
   ]
  },
  {
   "attachments": {},
   "cell_type": "markdown",
   "metadata": {},
   "source": [
    "This doesnt look like a N. We probably need to rotate the images."
   ]
  },
  {
   "cell_type": "code",
   "execution_count": 12,
   "metadata": {},
   "outputs": [
    {
     "name": "stdout",
     "output_type": "stream",
     "text": [
      "Label entry 42: N\n"
     ]
    },
    {
     "data": {
      "image/png": "[encoded data removed]",
      "text/plain": [
       "<Figure size 432x288 with 1 Axes>"
      ]
     },
     "metadata": {
      "needs_background": "light"
     },
     "output_type": "display_data"
    }
   ],
   "source": [
    "def reshape_and_rotate(image):\n",
    "    W = 28\n",
    "    H = 28\n",
    "    image = image.reshape(W, H)\n",
    "    image = np.fliplr(image)\n",
    "    image = np.rot90(image)\n",
    "    return image\n",
    "\n",
    "\n",
    "print(\"Label entry 42:\", label_dictionary[sample_label])\n",
    "plt.imshow(reshape_and_rotate(sample_image.values), cmap=plt.cm.gray)\n",
    "plt.show()"
   ]
  },
  {
   "attachments": {},
   "cell_type": "markdown",
   "metadata": {},
   "source": [
    "That looks much closer, but maybe this is an outlier? We will need to visualize some other images to check"
   ]
  },
  {
   "cell_type": "code",
   "execution_count": 13,
   "metadata": {},
   "outputs": [
    {
     "data": {
      "text/plain": [
       "(112800, 28, 28)"
      ]
     },
     "execution_count": 13,
     "metadata": {},
     "output_type": "execute_result"
    }
   ],
   "source": [
    "X_train = np.apply_along_axis(reshape_and_rotate, 1, X_train.values) # X_train is now a numpy array\n",
    "X_train.shape"
   ]
  },
  {
   "attachments": {},
   "cell_type": "markdown",
   "metadata": {},
   "source": [
    "We visualize some more images to check that rotating was correct"
   ]
  },
  {
   "cell_type": "code",
   "execution_count": 14,
   "metadata": {},
   "outputs": [
    {
     "name": "stdout",
     "output_type": "stream",
     "text": [
      "Label entry 42: N\n"
     ]
    },
    {
     "data": {
      "image/png": "[encoded data removed]",
      "text/plain": [
       "<Figure size 432x288 with 1 Axes>"
      ]
     },
     "metadata": {
      "needs_background": "light"
     },
     "output_type": "display_data"
    },
    {
     "data": {
      "image/png": "[encoded data removed]",
      "text/plain": [
       "<Figure size 432x288 with 6 Axes>"
      ]
     },
     "metadata": {
      "needs_background": "light"
     },
     "output_type": "display_data"
    }
   ],
   "source": [
    "sample_image = X_train[42]\n",
    "sample_label = y_train.iloc[42]\n",
    "print(\"Label entry 42:\", label_dictionary[sample_label])\n",
    "plt.imshow(sample_image.reshape(W, H), cmap=plt.cm.gray)\n",
    "plt.show()\n",
    "\n",
    "for i in range(100, 106):\n",
    "    plt.subplot(390 + (i + 1))\n",
    "    plt.imshow(X_train[i], cmap=plt.cm.gray)\n",
    "    plt.title(label_dictionary[y_train[i]])"
   ]
  },
  {
   "attachments": {},
   "cell_type": "markdown",
   "metadata": {},
   "source": [
    "Looks good!"
   ]
  },
  {
   "attachments": {},
   "cell_type": "markdown",
   "metadata": {},
   "source": [
    "### Part Three: Feature Engineering\n",
    "\n",
    "First we normalize the data to between 0 and 1"
   ]
  },
  {
   "cell_type": "code",
   "execution_count": 15,
   "metadata": {},
   "outputs": [],
   "source": [
    "X_train = X_train.astype('float32') / 255"
   ]
  },
  {
   "attachments": {},
   "cell_type": "markdown",
   "metadata": {},
   "source": [
    "One hot encode the labels"
   ]
  },
  {
   "cell_type": "code",
   "execution_count": 16,
   "metadata": {},
   "outputs": [
    {
     "data": {
      "text/plain": [
       "47"
      ]
     },
     "execution_count": 16,
     "metadata": {},
     "output_type": "execute_result"
    }
   ],
   "source": [
    "number_of_classes = y_train.nunique()\n",
    "number_of_classes"
   ]
  },
  {
   "cell_type": "code",
   "execution_count": 17,
   "metadata": {},
   "outputs": [
    {
     "data": {
      "text/plain": [
       "(112800, 47)"
      ]
     },
     "execution_count": 17,
     "metadata": {},
     "output_type": "execute_result"
    }
   ],
   "source": [
    "y_train = np_utils.to_categorical(y_train, number_of_classes)\n",
    "y_train.shape"
   ]
  },
  {
   "cell_type": "code",
   "execution_count": 18,
   "metadata": {},
   "outputs": [
    {
     "data": {
      "text/plain": [
       "array([[0., 0., 0., ..., 0., 1., 0.],\n",
       "       [0., 0., 0., ..., 0., 0., 0.],\n",
       "       [0., 0., 0., ..., 0., 0., 0.],\n",
       "       ...,\n",
       "       [0., 0., 0., ..., 0., 0., 0.],\n",
       "       [0., 0., 0., ..., 0., 0., 0.],\n",
       "       [0., 0., 0., ..., 0., 0., 0.]], dtype=float32)"
      ]
     },
     "execution_count": 18,
     "metadata": {},
     "output_type": "execute_result"
    }
   ],
   "source": [
    "y_train"
   ]
  },
  {
   "attachments": {},
   "cell_type": "markdown",
   "metadata": {},
   "source": [
    "Next we reshape the input to fit model"
   ]
  },
  {
   "cell_type": "code",
   "execution_count": 19,
   "metadata": {},
   "outputs": [
    {
     "data": {
      "text/plain": [
       "(112800, 28, 28, 1)"
      ]
     },
     "execution_count": 19,
     "metadata": {},
     "output_type": "execute_result"
    }
   ],
   "source": [
    "X_train = X_train.reshape(-1, W, H, 1)\n",
    "X_train.shape"
   ]
  },
  {
   "attachments": {},
   "cell_type": "markdown",
   "metadata": {},
   "source": [
    "Train test split!"
   ]
  },
  {
   "cell_type": "code",
   "execution_count": 20,
   "metadata": {},
   "outputs": [],
   "source": [
    "X_train, X_val, y_train, y_val = train_test_split(X_train,\n",
    "                                                  y_train,\n",
    "                                                  test_size=0.15,\n",
    "                                                  random_state=88)"
   ]
  },
  {
   "attachments": {},
   "cell_type": "markdown",
   "metadata": {},
   "source": [
    "## Part Four: Building the model\n",
    "\n",
    "Here we will finally create our model!\n",
    "\n",
    "We will start off with a very basic model to ensure everything is working!"
   ]
  },
  {
   "cell_type": "code",
   "execution_count": 21,
   "metadata": {},
   "outputs": [
    {
     "name": "stdout",
     "output_type": "stream",
     "text": [
      "Model: \"sequential\"\n",
      "_________________________________________________________________\n",
      " Layer (type)                Output Shape              Param #   \n",
      "=================================================================\n",
      " conv2d (Conv2D)             (None, 28, 28, 32)        320       \n",
      "                                                                 \n",
      " max_pooling2d (MaxPooling2D  (None, 14, 14, 32)       0         \n",
      " )                                                               \n",
      "                                                                 \n",
      " conv2d_1 (Conv2D)           (None, 14, 14, 32)        9248      \n",
      "                                                                 \n",
      " max_pooling2d_1 (MaxPooling  (None, 7, 7, 32)         0         \n",
      " 2D)                                                             \n",
      "                                                                 \n",
      " conv2d_2 (Conv2D)           (None, 7, 7, 64)          18496     \n",
      "                                                                 \n",
      " max_pooling2d_2 (MaxPooling  (None, 3, 3, 64)         0         \n",
      " 2D)                                                             \n",
      "                                                                 \n",
      " conv2d_3 (Conv2D)           (None, 3, 3, 128)         73856     \n",
      "                                                                 \n",
      " max_pooling2d_3 (MaxPooling  (None, 1, 1, 128)        0         \n",
      " 2D)                                                             \n",
      "                                                                 \n",
      " flatten (Flatten)           (None, 128)               0         \n",
      "                                                                 \n",
      " dense (Dense)               (None, 1048)              135192    \n",
      "                                                                 \n",
      " dense_1 (Dense)             (None, 128)               134272    \n",
      "                                                                 \n",
      " dense_2 (Dense)             (None, 47)                6063      \n",
      "                                                                 \n",
      "=================================================================\n",
      "Total params: 377,447\n",
      "Trainable params: 377,447\n",
      "Non-trainable params: 0\n",
      "_________________________________________________________________\n"
     ]
    }
   ],
   "source": [
    "model = Sequential()\n",
    "\n",
    "model.add(keras.layers.Input(shape=(W, H, 1)))\n",
    "model.add(\n",
    "    keras.layers.Conv2D(filters=32,\n",
    "                        kernel_size=(3, 3),\n",
    "                        strides=(1, 1),\n",
    "                        padding=\"same\",\n",
    "                        activation='relu'))\n",
    "model.add(keras.layers.MaxPooling2D((2, 2)))\n",
    "model.add(\n",
    "    keras.layers.Conv2D(filters=32,\n",
    "                        kernel_size=(3, 3),\n",
    "                        padding=\"same\",\n",
    "                        activation='relu'))\n",
    "model.add(keras.layers.MaxPooling2D((2, 2)))\n",
    "model.add(\n",
    "    keras.layers.Conv2D(filters=64,\n",
    "                        kernel_size=(3, 3),\n",
    "                        padding=\"same\",\n",
    "                        activation='relu'))\n",
    "model.add(keras.layers.MaxPooling2D((2, 2)))\n",
    "model.add(\n",
    "    keras.layers.Conv2D(filters=128,\n",
    "                        kernel_size=(3, 3),\n",
    "                        padding=\"same\",\n",
    "                        activation='relu'))\n",
    "model.add(keras.layers.MaxPooling2D((2, 2)))\n",
    "model.add(keras.layers.Flatten())\n",
    "model.add(keras.layers.Dense(1048, activation='swish'))\n",
    "model.add(keras.layers.Dense(128, activation='swish'))\n",
    "model.add(keras.layers.Dense(number_of_classes, activation='softmax'))\n",
    "\n",
    "model.build(input_shape=(None, W, H, 1))\n",
    "model.summary()"
   ]
  },
  {
   "attachments": {},
   "cell_type": "markdown",
   "metadata": {},
   "source": [
    "### Training\n",
    "Now for the fun part.\n",
    "\n",
    "We first start off by compiling the model with the Adam optimizer, and set the number of epochs to 10. Then we fit the model and display the accuracies in a graph."
   ]
  },
  {
   "cell_type": "code",
   "execution_count": 21,
   "metadata": {},
   "outputs": [
    {
     "name": "stdout",
     "output_type": "stream",
     "text": [
      "Epoch 1/10\n",
      "48/48 [==============================] - 3s 12ms/step - loss: 3.7230 - accuracy: 0.0556 - val_loss: 3.1582 - val_accuracy: 0.1353\n",
      "Epoch 2/10\n",
      "48/48 [==============================] - 0s 6ms/step - loss: 2.5222 - accuracy: 0.2660 - val_loss: 1.9642 - val_accuracy: 0.3706\n",
      "Epoch 3/10\n",
      "48/48 [==============================] - 0s 6ms/step - loss: 1.6818 - accuracy: 0.4797 - val_loss: 1.5241 - val_accuracy: 0.5235\n",
      "Epoch 4/10\n",
      "48/48 [==============================] - 0s 6ms/step - loss: 1.1673 - accuracy: 0.6183 - val_loss: 1.3116 - val_accuracy: 0.5706\n",
      "Epoch 5/10\n",
      "48/48 [==============================] - 0s 7ms/step - loss: 0.8530 - accuracy: 0.7118 - val_loss: 1.1493 - val_accuracy: 0.6235\n",
      "Epoch 6/10\n",
      "48/48 [==============================] - 0s 7ms/step - loss: 0.6817 - accuracy: 0.7739 - val_loss: 1.1831 - val_accuracy: 0.6176\n",
      "Epoch 7/10\n",
      "48/48 [==============================] - 0s 7ms/step - loss: 0.5592 - accuracy: 0.8020 - val_loss: 1.0418 - val_accuracy: 0.6824\n",
      "Epoch 8/10\n",
      "48/48 [==============================] - 0s 6ms/step - loss: 0.4730 - accuracy: 0.8294 - val_loss: 0.8443 - val_accuracy: 0.7294\n",
      "Epoch 9/10\n",
      "48/48 [==============================] - 0s 6ms/step - loss: 0.3579 - accuracy: 0.8693 - val_loss: 0.8394 - val_accuracy: 0.7059\n",
      "Epoch 10/10\n",
      "48/48 [==============================] - 0s 7ms/step - loss: 0.3660 - accuracy: 0.8673 - val_loss: 1.0141 - val_accuracy: 0.6706\n"
     ]
    }
   ],
   "source": [
    "model.compile(optimizer='adam',\n",
    "              loss='categorical_crossentropy',\n",
    "              metrics=['accuracy'])\n",
    "num_epochs = 10\n",
    "history = model.fit(X_train, y_train,\n",
    "                    workers=8,\n",
    "                    epochs=num_epochs,\n",
    "                    validation_split=0.1,\n",
    "                    verbose=1)\n"
   ]
  },
  {
   "attachments": {},
   "cell_type": "markdown",
   "metadata": {},
   "source": [
    "### Visualizing\n",
    "Here, we will visualize the accuracy of the model as it trains."
   ]
  },
  {
   "cell_type": "code",
   "execution_count": 22,
   "metadata": {},
   "outputs": [
    {
     "data": {
      "image/png": "[encoded data removed]",
      "text/plain": [
       "<Figure size 432x288 with 1 Axes>"
      ]
     },
     "metadata": {
      "needs_background": "light"
     },
     "output_type": "display_data"
    }
   ],
   "source": [
    "plt.plot(history.history['accuracy'], label='accuracy')\n",
    "plt.plot(history.history['val_accuracy'], label='val_accuracy')\n",
    "plt.xlabel('Epoch')\n",
    "plt.ylabel('Accuracy')\n",
    "plt.ylim([0.1, 1])\n",
    "plt.legend(loc='lower right')\n",
    "plt.show()"
   ]
  },
  {
   "attachments": {},
   "cell_type": "markdown",
   "metadata": {},
   "source": [
    "Test data\n",
    "Lets see how well our model does on the test data. "
   ]
  },
  {
   "cell_type": "code",
   "execution_count": 23,
   "metadata": {},
   "outputs": [
    {
     "name": "stdout",
     "output_type": "stream",
     "text": [
      "10/10 [==============================] - 0s 8ms/step - loss: 1.1715 - accuracy: 0.7033\n"
     ]
    },
    {
     "data": {
      "text/plain": [
       "[1.171479344367981, 0.70333331823349]"
      ]
     },
     "execution_count": 23,
     "metadata": {},
     "output_type": "execute_result"
    }
   ],
   "source": [
    "model.evaluate(X_val, y_val)"
   ]
  },
  {
   "attachments": {},
   "cell_type": "markdown",
   "metadata": {},
   "source": [
    "In the end, we had a test accuracy of 87.24% Pretty good for a basic model!"
   ]
  },
  {
   "attachments": {},
   "cell_type": "markdown",
   "metadata": {},
   "source": [
    "## Part Five: Transfer Learning\n",
    "\n",
    "Here is our real model, we will be using MobileNet for its small size and high accuracy."
   ]
  },
  {
   "attachments": {},
   "cell_type": "markdown",
   "metadata": {},
   "source": [
    "Since MobileNet expects three channels, we will convert from grayscale to RGB."
   ]
  },
  {
   "cell_type": "code",
   "execution_count": 21,
   "metadata": {},
   "outputs": [],
   "source": [
    "# Convert the one channel numpy array to a 3 channel numpy array\n",
    "X_train = np.repeat(X_train, 3, axis=3)\n",
    "X_val = np.repeat(X_val, 3, axis=3)\n"
   ]
  },
  {
   "cell_type": "code",
   "execution_count": 22,
   "metadata": {},
   "outputs": [
    {
     "data": {
      "text/plain": [
       "(95880, 28, 28, 3)"
      ]
     },
     "execution_count": 22,
     "metadata": {},
     "output_type": "execute_result"
    }
   ],
   "source": [
    "X_train.shape\n"
   ]
  },
  {
   "cell_type": "code",
   "execution_count": 23,
   "metadata": {},
   "outputs": [
    {
     "data": {
      "text/plain": [
       "(16920, 28, 28, 3)"
      ]
     },
     "execution_count": 23,
     "metadata": {},
     "output_type": "execute_result"
    }
   ],
   "source": [
    "X_val.shape"
   ]
  },
  {
   "attachments": {},
   "cell_type": "markdown",
   "metadata": {},
   "source": [
    "Next we convert this to a dataset"
   ]
  },
  {
   "cell_type": "code",
   "execution_count": 30,
   "metadata": {},
   "outputs": [],
   "source": [
    "train = tf.data.Dataset.from_tensor_slices((X_train, y_train))\n",
    "val = tf.data.Dataset.from_tensor_slices((X_val, y_val))"
   ]
  },
  {
   "cell_type": "code",
   "execution_count": 31,
   "metadata": {},
   "outputs": [],
   "source": [
    "train = train.batch(128)\n",
    "train = train.shuffle(4000)\n",
    "val = val.batch(128)\n"
   ]
  },
  {
   "cell_type": "code",
   "execution_count": 34,
   "metadata": {},
   "outputs": [
    {
     "name": "stdout",
     "output_type": "stream",
     "text": [
      "Model: \"sequential_2\"\n",
      "_________________________________________________________________\n",
      " Layer (type)                Output Shape              Param #   \n",
      "=================================================================\n",
      " resizing_2 (Resizing)       (None, 224, 224, 3)       0         \n",
      "                                                                 \n",
      " keras_layer_2 (KerasLayer)  (None, 1001)              3540265   \n",
      "                                                                 \n",
      " flatten_2 (Flatten)         (None, 1001)              0         \n",
      "                                                                 \n",
      " dense_8 (Dense)             (None, 1024)              1026048   \n",
      "                                                                 \n",
      " batch_normalization_6 (Batc  (None, 1024)             4096      \n",
      " hNormalization)                                                 \n",
      "                                                                 \n",
      " dropout_6 (Dropout)         (None, 1024)              0         \n",
      "                                                                 \n",
      " dense_9 (Dense)             (None, 512)               524800    \n",
      "                                                                 \n",
      " batch_normalization_7 (Batc  (None, 512)              2048      \n",
      " hNormalization)                                                 \n",
      "                                                                 \n",
      " dropout_7 (Dropout)         (None, 512)               0         \n",
      "                                                                 \n",
      " dense_10 (Dense)            (None, 256)               131328    \n",
      "                                                                 \n",
      " batch_normalization_8 (Batc  (None, 256)              1024      \n",
      " hNormalization)                                                 \n",
      "                                                                 \n",
      " dropout_8 (Dropout)         (None, 256)               0         \n",
      "                                                                 \n",
      " dense_11 (Dense)            (None, 47)                12079     \n",
      "                                                                 \n",
      "=================================================================\n",
      "Total params: 5,241,688\n",
      "Trainable params: 1,697,839\n",
      "Non-trainable params: 3,543,849\n",
      "_________________________________________________________________\n"
     ]
    }
   ],
   "source": [
    "model = Sequential()\n",
    "mobilenet_v2 = \"https://tfhub.dev/google/tf2-preview/mobilenet_v2/classification/4\"\n",
    "feature_extractor_model = mobilenet_v2\n",
    "\n",
    "feature_extractor_layer = hub.KerasLayer(feature_extractor_model,\n",
    "                                         input_shape=(224, 224, 3),\n",
    "                                         trainable=False)\n",
    "\n",
    "model.add(keras.layers.Resizing(224, 224))\n",
    "model.add(feature_extractor_layer)\n",
    "model.add(keras.layers.Flatten())\n",
    "model.add(keras.layers.Dense(1024, activation='swish'))\n",
    "model.add(keras.layers.BatchNormalization())\n",
    "model.add(keras.layers.Dropout(0.2))\n",
    "model.add(keras.layers.Dense(512, activation='swish'))\n",
    "model.add(keras.layers.BatchNormalization())\n",
    "model.add(keras.layers.Dropout(0.2))\n",
    "model.add(keras.layers.Dense(256, activation='swish'))\n",
    "model.add(keras.layers.BatchNormalization())\n",
    "model.add(keras.layers.Dropout(0.2))\n",
    "model.add(keras.layers.Dense(number_of_classes, activation='softmax'))\n",
    "\n",
    "model.build(input_shape=(None, 28, 28, 3))\n",
    "model.summary()"
   ]
  },
  {
   "attachments": {},
   "cell_type": "markdown",
   "metadata": {},
   "source": [
    "We start training the model with the same parameters as before except with some more epochs and callbacks"
   ]
  },
  {
   "cell_type": "code",
   "execution_count": 35,
   "metadata": {},
   "outputs": [
    {
     "name": "stdout",
     "output_type": "stream",
     "text": [
      "Epoch 1/100\n",
      "750/750 [==============================] - 53s 66ms/step - loss: 0.8651 - accuracy: 0.7296 - val_loss: 0.6088 - val_accuracy: 0.7946 - lr: 0.0010\n",
      "Epoch 2/100\n",
      "750/750 [==============================] - 50s 66ms/step - loss: 0.5968 - accuracy: 0.7988 - val_loss: 0.5768 - val_accuracy: 0.7951 - lr: 0.0010\n",
      "Epoch 3/100\n",
      "750/750 [==============================] - 53s 70ms/step - loss: 0.5371 - accuracy: 0.8173 - val_loss: 0.5411 - val_accuracy: 0.8133 - lr: 0.0010\n",
      "Epoch 4/100\n",
      "750/750 [==============================] - 52s 69ms/step - loss: 0.5011 - accuracy: 0.8271 - val_loss: 0.5208 - val_accuracy: 0.8208 - lr: 0.0010\n",
      "Epoch 5/100\n",
      "750/750 [==============================] - 55s 73ms/step - loss: 0.4764 - accuracy: 0.8336 - val_loss: 0.5012 - val_accuracy: 0.8216 - lr: 0.0010\n",
      "Epoch 6/100\n",
      "750/750 [==============================] - 50s 66ms/step - loss: 0.4564 - accuracy: 0.8397 - val_loss: 0.4940 - val_accuracy: 0.8310 - lr: 0.0010\n",
      "Epoch 7/100\n",
      "750/750 [==============================] - 49s 66ms/step - loss: 0.4375 - accuracy: 0.8434 - val_loss: 0.5018 - val_accuracy: 0.8309 - lr: 0.0010\n",
      "Epoch 8/100\n",
      "750/750 [==============================] - 49s 65ms/step - loss: 0.4204 - accuracy: 0.8496 - val_loss: 0.4802 - val_accuracy: 0.8355 - lr: 0.0010\n",
      "Epoch 9/100\n",
      "750/750 [==============================] - 50s 66ms/step - loss: 0.4059 - accuracy: 0.8538 - val_loss: 0.4730 - val_accuracy: 0.8358 - lr: 0.0010\n",
      "Epoch 10/100\n",
      "750/750 [==============================] - 49s 66ms/step - loss: 0.3917 - accuracy: 0.8575 - val_loss: 0.4776 - val_accuracy: 0.8366 - lr: 0.0010\n",
      "Epoch 11/100\n",
      "750/750 [==============================] - 49s 65ms/step - loss: 0.3806 - accuracy: 0.8620 - val_loss: 0.4757 - val_accuracy: 0.8375 - lr: 0.0010\n",
      "Epoch 12/100\n",
      "750/750 [==============================] - 50s 66ms/step - loss: 0.3668 - accuracy: 0.8649 - val_loss: 0.4773 - val_accuracy: 0.8378 - lr: 0.0010\n",
      "Epoch 13/100\n",
      "750/750 [==============================] - 50s 66ms/step - loss: 0.3557 - accuracy: 0.8685 - val_loss: 0.4643 - val_accuracy: 0.8369 - lr: 0.0010\n",
      "Epoch 14/100\n",
      "750/750 [==============================] - 49s 66ms/step - loss: 0.3481 - accuracy: 0.8708 - val_loss: 0.4861 - val_accuracy: 0.8405 - lr: 0.0010\n",
      "Epoch 15/100\n",
      "750/750 [==============================] - 49s 65ms/step - loss: 0.3396 - accuracy: 0.8732 - val_loss: 0.4717 - val_accuracy: 0.8428 - lr: 0.0010\n",
      "Epoch 16/100\n",
      "750/750 [==============================] - 49s 65ms/step - loss: 0.3333 - accuracy: 0.8750 - val_loss: 0.4771 - val_accuracy: 0.8409 - lr: 0.0010\n",
      "Epoch 17/100\n",
      "750/750 [==============================] - ETA: 0s - loss: 0.3260 - accuracy: 0.8777\n",
      "Epoch 17: ReduceLROnPlateau reducing learning rate to 0.0004000000189989805.\n",
      "750/750 [==============================] - 49s 66ms/step - loss: 0.3260 - accuracy: 0.8777 - val_loss: 0.4683 - val_accuracy: 0.8455 - lr: 0.0010\n",
      "Epoch 18/100\n",
      "750/750 [==============================] - 49s 66ms/step - loss: 0.2697 - accuracy: 0.8959 - val_loss: 0.4260 - val_accuracy: 0.8555 - lr: 4.0000e-04\n",
      "Epoch 19/100\n",
      "750/750 [==============================] - 50s 67ms/step - loss: 0.2529 - accuracy: 0.9027 - val_loss: 0.4341 - val_accuracy: 0.8580 - lr: 4.0000e-04\n",
      "Epoch 20/100\n",
      "750/750 [==============================] - 50s 67ms/step - loss: 0.2456 - accuracy: 0.9038 - val_loss: 0.4482 - val_accuracy: 0.8547 - lr: 4.0000e-04\n",
      "Epoch 21/100\n",
      "750/750 [==============================] - 49s 65ms/step - loss: 0.2402 - accuracy: 0.9050 - val_loss: 0.4398 - val_accuracy: 0.8550 - lr: 4.0000e-04\n",
      "Epoch 22/100\n",
      "750/750 [==============================] - ETA: 0s - loss: 0.2316 - accuracy: 0.9087\n",
      "Epoch 22: ReduceLROnPlateau reducing learning rate to 0.00016000000759959222.\n",
      "750/750 [==============================] - 49s 65ms/step - loss: 0.2316 - accuracy: 0.9087 - val_loss: 0.4439 - val_accuracy: 0.8573 - lr: 4.0000e-04\n",
      "Epoch 23/100\n",
      "750/750 [==============================] - 49s 66ms/step - loss: 0.2100 - accuracy: 0.9173 - val_loss: 0.4351 - val_accuracy: 0.8583 - lr: 1.6000e-04\n",
      "Epoch 24/100\n",
      "750/750 [==============================] - 49s 65ms/step - loss: 0.2026 - accuracy: 0.9193 - val_loss: 0.4401 - val_accuracy: 0.8597 - lr: 1.6000e-04\n",
      "Epoch 25/100\n",
      "750/750 [==============================] - 49s 66ms/step - loss: 0.1994 - accuracy: 0.9200 - val_loss: 0.4428 - val_accuracy: 0.8596 - lr: 1.6000e-04\n",
      "Epoch 26/100\n",
      "750/750 [==============================] - ETA: 0s - loss: 0.1957 - accuracy: 0.9224\n",
      "Epoch 26: ReduceLROnPlateau reducing learning rate to 0.0001.\n",
      "750/750 [==============================] - 49s 66ms/step - loss: 0.1957 - accuracy: 0.9224 - val_loss: 0.4493 - val_accuracy: 0.8586 - lr: 1.6000e-04\n"
     ]
    }
   ],
   "source": [
    "model.compile(optimizer='adam',\n",
    "              loss='categorical_crossentropy',\n",
    "              metrics=['accuracy'])\n",
    "num_epochs = 100\n",
    "\n",
    "lr_reduction = keras.callbacks.ReduceLROnPlateau(monitor='val_loss',\n",
    "                                                 patience=4,\n",
    "                                                 verbose=1,\n",
    "                                                 factor=0.4,\n",
    "                                                 min_lr=0.0001)\n",
    "\n",
    "early_stop = keras.callbacks.EarlyStopping(monitor='val_loss',\n",
    "                                           min_delta=0.00001,\n",
    "                                           patience=8,\n",
    "                                           mode='auto',\n",
    "                                           restore_best_weights=True)\n",
    "\n",
    "history = model.fit(\n",
    "    train,\n",
    "    epochs=num_epochs,\n",
    "    validation_data=val,\n",
    "    verbose=1,\n",
    "    callbacks=[early_stop, lr_reduction],\n",
    ")\n"
   ]
  },
  {
   "attachments": {},
   "cell_type": "markdown",
   "metadata": {},
   "source": [
    "## Step Six: Visualizing the model and saving"
   ]
  },
  {
   "cell_type": "code",
   "execution_count": 36,
   "metadata": {},
   "outputs": [
    {
     "data": {
      "image/png": "[encoded data removed]",
      "text/plain": [
       "<Figure size 432x288 with 1 Axes>"
      ]
     },
     "metadata": {
      "needs_background": "light"
     },
     "output_type": "display_data"
    }
   ],
   "source": [
    "plt.plot(history.history['accuracy'], label='accuracy')\n",
    "plt.plot(history.history['val_accuracy'], label='val_accuracy')\n",
    "plt.xlabel('Epoch')\n",
    "plt.ylabel('Accuracy')\n",
    "plt.ylim([0.1, 1])\n",
    "plt.legend(loc='lower right')\n",
    "plt.show()"
   ]
  },
  {
   "cell_type": "code",
   "execution_count": 37,
   "metadata": {},
   "outputs": [
    {
     "name": "stdout",
     "output_type": "stream",
     "text": [
      "INFO:tensorflow:Assets written to: model\\assets\n"
     ]
    },
    {
     "name": "stderr",
     "output_type": "stream",
     "text": [
      "INFO:tensorflow:Assets written to: model\\assets\n"
     ]
    }
   ],
   "source": [
    "model.save('model.h5')\n",
    "model.save('model',\n",
    "              save_format='tf',\n",
    "                include_optimizer=False,\n",
    "                signatures=None,\n",
    "                options=None\n",
    ")"
   ]
  }
 ],
 "metadata": {
  "kernelspec": {
   "display_name": "Python 3",
   "language": "python",
   "name": "python3"
  },
  "language_info": {
   "codemirror_mode": {
    "name": "ipython",
    "version": 3
   },
   "file_extension": ".py",
   "mimetype": "text/x-python",
   "name": "python",
   "nbconvert_exporter": "python",
   "pygments_lexer": "ipython3",
   "version": "3.10.5"
  },
  "orig_nbformat": 4,
  "vscode": {
   "interpreter": {
    "hash": "fbe18edc02b0afde77b04389e793eee95343ecfd029af9658c775aaa40a68cc8"
   }
  }
 },
 "nbformat": 4,
 "nbformat_minor": 2
}
